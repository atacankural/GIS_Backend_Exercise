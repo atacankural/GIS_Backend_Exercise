{
 "cells": [
  {
   "cell_type": "code",
   "execution_count": 54,
   "id": "eecb8565",
   "metadata": {},
   "outputs": [],
   "source": [
    "conn.rollback()"
   ]
  },
  {
   "cell_type": "code",
   "execution_count": 2,
   "id": "37fcd183",
   "metadata": {},
   "outputs": [],
   "source": [
    "import psycopg2"
   ]
  },
  {
   "cell_type": "code",
   "execution_count": 3,
   "id": "b75f1f6c",
   "metadata": {},
   "outputs": [
    {
     "ename": "DuplicateTable",
     "evalue": "relation \"parks\" already exists\n",
     "output_type": "error",
     "traceback": [
      "\u001b[1;31m---------------------------------------------------------------------------\u001b[0m",
      "\u001b[1;31mDuplicateTable\u001b[0m                            Traceback (most recent call last)",
      "Cell \u001b[1;32mIn[3], line 14\u001b[0m\n\u001b[0;32m     10\u001b[0m cur \u001b[38;5;241m=\u001b[39m conn\u001b[38;5;241m.\u001b[39mcursor()\n\u001b[0;32m     13\u001b[0m \u001b[38;5;66;03m# park tablosunu oluşturun\u001b[39;00m\n\u001b[1;32m---> 14\u001b[0m \u001b[43mcur\u001b[49m\u001b[38;5;241;43m.\u001b[39;49m\u001b[43mexecute\u001b[49m\u001b[43m(\u001b[49m\u001b[38;5;124;43m\"\"\"\u001b[39;49m\n\u001b[0;32m     15\u001b[0m \u001b[38;5;124;43m    CREATE TABLE parks (\u001b[39;49m\n\u001b[0;32m     16\u001b[0m \u001b[38;5;124;43m        id SERIAL PRIMARY KEY,\u001b[39;49m\n\u001b[0;32m     17\u001b[0m \u001b[38;5;124;43m        name VARCHAR(255),\u001b[39;49m\n\u001b[0;32m     18\u001b[0m \u001b[38;5;124;43m        area FLOAT,\u001b[39;49m\n\u001b[0;32m     19\u001b[0m \u001b[38;5;124;43m        location GEOMETRY(POINT, 4326)\u001b[39;49m\n\u001b[0;32m     20\u001b[0m \u001b[38;5;124;43m    );\u001b[39;49m\n\u001b[0;32m     21\u001b[0m \u001b[38;5;124;43m\"\"\"\u001b[39;49m\u001b[43m)\u001b[49m\n\u001b[0;32m     23\u001b[0m \u001b[38;5;66;03m# değişiklikleri commit edin\u001b[39;00m\n\u001b[0;32m     24\u001b[0m conn\u001b[38;5;241m.\u001b[39mcommit()\n",
      "\u001b[1;31mDuplicateTable\u001b[0m: relation \"parks\" already exists\n"
     ]
    }
   ],
   "source": [
    "\n",
    "# varolan veritabanına bağlan\n",
    "conn = psycopg2.connect(\n",
    "    dbname=\"postgres\",\n",
    "    user=\"postgres\",\n",
    "    password=\"123456\",\n",
    "    host=\"localhost\"\n",
    ")\n",
    "\n",
    "# bir cursor oluşturun\n",
    "cur = conn.cursor()\n",
    "\n",
    "\n",
    "# park tablosunu oluşturun\n",
    "cur.execute(\"\"\"\n",
    "    CREATE TABLE parks (\n",
    "        id SERIAL PRIMARY KEY,\n",
    "        name VARCHAR(255),\n",
    "        area FLOAT,\n",
    "        location GEOMETRY(POINT, 4326)\n",
    "    );\n",
    "\"\"\")\n",
    "\n",
    "# değişiklikleri commit edin\n",
    "conn.commit()\n",
    "\n"
   ]
  },
  {
   "cell_type": "code",
   "execution_count": 8,
   "id": "47854901",
   "metadata": {},
   "outputs": [],
   "source": [
    "conn.rollback()\n",
    "\n",
    "cur.execute(\"\"\"\n",
    "    ALTER TABLE parks\n",
    "    ADD COLUMN city VARCHAR(255);\n",
    "    ALTER TABLE parks\n",
    "    ADD COLUMN boundaries GEOMETRY(POLYGON, 4326);\n",
    "\"\"\")\n",
    "conn.commit()"
   ]
  },
  {
   "cell_type": "code",
   "execution_count": 9,
   "id": "da18fc4e",
   "metadata": {},
   "outputs": [],
   "source": [
    "cur.execute(\"\"\"\n",
    "    INSERT INTO parks (name, area, location, boundaries)\n",
    "    VALUES (\n",
    "        'Central Park', \n",
    "        3.41, \n",
    "        ST_GeomFromText('POINT(-73.9712 40.7831)', 4326),\n",
    "        ST_GeomFromText('POLYGON((-73.9814 40.7681, -73.9582 40.7681, -73.9582 40.7977, -73.9814 40.7977, -73.9814 40.7681))', 4326)\n",
    "    );\n",
    "\"\"\")\n",
    "\n",
    "conn.commit()\n"
   ]
  },
  {
   "cell_type": "code",
   "execution_count": 10,
   "id": "5f71b0ba",
   "metadata": {},
   "outputs": [
    {
     "name": "stdout",
     "output_type": "stream",
     "text": [
      "(1, 'Central Park', 3.41, '0101000020E610000003780B24287E52C0B1BFEC9E3C644440', None, '0103000020E61000000100000005000000D712F241CF7E52C05F07CE1951624440BEC11726537D52C05F07CE1951624440BEC11726537D52C075029A081B664440D712F241CF7E52C075029A081B664440D712F241CF7E52C05F07CE1951624440')\n"
     ]
    }
   ],
   "source": [
    "# parkları çek\n",
    "cur.execute(\"SELECT * FROM parks;\")\n",
    "\n",
    "# sonuçları al\n",
    "rows = cur.fetchall()\n",
    "\n",
    "# sonuçları ekrana bas\n",
    "for row in rows:\n",
    "    print(row)\n"
   ]
  },
  {
   "cell_type": "code",
   "execution_count": 12,
   "id": "0209330e",
   "metadata": {},
   "outputs": [
    {
     "name": "stdout",
     "output_type": "stream",
     "text": [
      "('POINT(-73.9712 40.7831)',)\n"
     ]
    }
   ],
   "source": [
    "cur.execute(\"\"\"SELECT ST_AsText(location) FROM parks;\"\"\")\n",
    "locationParks = cur.fetchall()\n",
    "for loc in locationParks:\n",
    "            print(loc)"
   ]
  },
  {
   "cell_type": "code",
   "execution_count": 13,
   "id": "69f7b323",
   "metadata": {},
   "outputs": [],
   "source": [
    "# Parks to insert\n",
    "parks_to_insert = [\n",
    "    (\"Central Park\", \"POINT(-73.965355 40.782865)\"),\n",
    "    (\"Golden Gate Park\", \"POINT(-123.4872 37.7694)\"),\n",
    "    (\"Hyde Park\", \"POINT(-0.1657 51.5074)\"),\n",
    "    (\"Ueno Park\", \"POINT(139.7713 35.7155)\"),\n",
    "]\n",
    "\n",
    "# Insert parks into the table\n",
    "for park in parks_to_insert:\n",
    "    cur.execute(\"\"\"\n",
    "        INSERT INTO parks (name, location)\n",
    "        VALUES (%s, ST_GeomFromText(%s, 4326));\n",
    "    \"\"\", park)\n",
    "\n",
    "# Commit changes\n",
    "conn.commit()\n"
   ]
  },
  {
   "cell_type": "code",
   "execution_count": 14,
   "id": "4daba6d3",
   "metadata": {},
   "outputs": [
    {
     "name": "stdout",
     "output_type": "stream",
     "text": [
      "('Central Park', 494.06929829)\n",
      "('Central Park', 0.0)\n"
     ]
    }
   ],
   "source": [
    "# Define the point and distance\n",
    "point = \"POINT(-73.965355 40.782865)\"  # Central Park\n",
    "distance = 10000  # meters\n",
    "\n",
    "# Find parks within the distance from the point\n",
    "cur.execute(\"\"\"\n",
    "    SELECT name, ST_Distance(location::geography, ST_GeomFromText(%s, 4326)::geography)\n",
    "    FROM parks\n",
    "    WHERE ST_DWithin(location::geography, ST_GeomFromText(%s, 4326)::geography, %s);\n",
    "\"\"\", (point, point, distance))\n",
    "\n",
    "# Fetch and print results\n",
    "rows = cur.fetchall()\n",
    "for row in rows:\n",
    "    print(row)\n"
   ]
  },
  {
   "cell_type": "code",
   "execution_count": 15,
   "id": "baede6bd",
   "metadata": {},
   "outputs": [],
   "source": [
    "#conn.close()"
   ]
  },
  {
   "cell_type": "code",
   "execution_count": 10,
   "id": "6876e4bd",
   "metadata": {},
   "outputs": [
    {
     "name": "stdout",
     "output_type": "stream",
     "text": [
      "('Central Park', 0.0)\n"
     ]
    }
   ],
   "source": [
    "# Define the point and distance\n",
    "point = \"POINT(-73.965355 40.782865)\"  # Central Park\n",
    "distance = 10000  # meters\n",
    "\n",
    "# Find parks within the distance from the point\n",
    "cur.execute(\"\"\"\n",
    "    SELECT name, ST_Distance(location::geography, ST_GeomFromText(%s, 4326)::geography)\n",
    "    FROM parks\n",
    "    WHERE ST_DWithin(location::geography, ST_GeomFromText(%s, 4326)::geography, %s);\n",
    "\"\"\", (point, point, distance))\n",
    "\n",
    "# Fetch and print results\n",
    "rows = cur.fetchall()\n",
    "for row in rows:\n",
    "    print(row)"
   ]
  },
  {
   "cell_type": "code",
   "execution_count": 22,
   "id": "77ec9aaf",
   "metadata": {},
   "outputs": [
    {
     "name": "stdout",
     "output_type": "stream",
     "text": [
      "(1, 'Central Park', 3.41, 'POINT(-73.9712 40.7831)', None, 'POLYGON((-73.9814 40.7681,-73.9582 40.7681,-73.9582 40.7977,-73.9814 40.7977,-73.9814 40.7681))')\n",
      "(2, 'Central Park', None, 'POINT(-73.965355 40.782865)', None, None)\n",
      "(3, 'Golden Gate Park', None, 'POINT(-123.4872 37.7694)', None, None)\n",
      "(4, 'Hyde Park', None, 'POINT(-0.1657 51.5074)', None, None)\n",
      "(5, 'Ueno Park', None, 'POINT(139.7713 35.7155)', None, None)\n",
      "(6, 'Golden Gate Park', 2.23, 'POINT(-122.4862 37.7694)', None, 'POLYGON((-122.51059341430664 37.77100882052909,-122.51053619384766 37.769283121623616,-122.46183967590332 37.7694451567806,-122.46188259124756 37.7711708532109,-122.51059341430664 37.77100882052909))')\n",
      "(7, 'Hyde Park', 7.83, 'POINT(-0.16573 51.507268)', None, 'POLYGON((-0.191875457763672 51.51167373609093,-0.191804885864258 51.50626141844558,-0.140314102172852 51.50639072960026,-0.14037036895752 51.51180303667296,-0.191875457763672 51.51167373609093))')\n",
      "(8, 'Ueno Park', 9.6, 'POINT(139.771317 35.715476)', None, 'POLYGON((139.76801109313965 35.71924718861591,139.76795482635498 35.71281974412442,139.77562713623047 35.71268843440356,139.77569770812988 35.71911587908337,139.76801109313965 35.71924718861591))')\n"
     ]
    }
   ],
   "source": [
    "cur.execute(\"\"\"\n",
    "SELECT id, name, area, ST_AsText(location) as location, city, ST_AsText(boundaries) as boundaries FROM parks\n",
    "\"\"\")\n",
    "\n",
    "info = cur.fetchall()\n",
    "for inf in info:\n",
    "    print(inf)"
   ]
  },
  {
   "cell_type": "code",
   "execution_count": 21,
   "id": "d2c53f7f",
   "metadata": {},
   "outputs": [],
   "source": [
    "parks = [\n",
    "    ('Golden Gate Park', 2.23, 'POINT(-122.4862 37.7694)', 'POLYGON((-122.51059341430664 37.77100882052909,-122.51053619384766 37.769283121623616,-122.46183967590332 37.7694451567806,-122.46188259124756 37.7711708532109,-122.51059341430664 37.77100882052909))'),\n",
    "    ('Hyde Park',7.83, 'POINT(-0.165730 51.507268)', 'POLYGON((-0.19187545776367188 51.51167373609093,-0.1918048858642578 51.506261418445584,-0.14031410217285156 51.50639072960026,-0.14037036895751953 51.51180303667296,-0.19187545776367188 51.51167373609093))'),\n",
    "    ('Ueno Park',9.6, 'POINT(139.771317 35.715476)', 'POLYGON((139.76801109313965 35.71924718861591,139.76795482635498 35.71281974412442,139.77562713623047 35.71268843440356,139.77569770812988 35.71911587908337,139.76801109313965 35.71924718861591))'),\n",
    "]\n",
    "\n",
    "for park in parks:\n",
    "    cur.execute(\"\"\"\n",
    "        INSERT INTO parks (name, area, location, boundaries)\n",
    "        VALUES (%s,%s, ST_GeomFromText(%s, 4326), ST_GeomFromText(%s, 4326));\n",
    "    \"\"\", park)\n",
    "    \n",
    "conn.commit()\n"
   ]
  },
  {
   "cell_type": "code",
   "execution_count": 25,
   "id": "3f14b639",
   "metadata": {},
   "outputs": [
    {
     "name": "stdout",
     "output_type": "stream",
     "text": [
      "(3.41, 'Central Park')\n",
      "(7.83, 'Hyde Park')\n",
      "(9.6, 'Ueno Park')\n"
     ]
    }
   ],
   "source": [
    "cur.execute(\"\"\"\n",
    "SELECT area, name from parks Where area >= 3\n",
    "\"\"\")\n",
    "area_greater_than_3 = cur.fetchall()\n",
    "for area in area_greater_than_3:\n",
    "    print(area)"
   ]
  },
  {
   "cell_type": "code",
   "execution_count": 26,
   "id": "ca4841c5",
   "metadata": {},
   "outputs": [],
   "source": [
    "cur.execute(\"\"\"\n",
    "DELETE FROM parks AS p1\n",
    "WHERE EXISTS (\n",
    "SELECT *\n",
    "FROM parks AS p2\n",
    "WHERE p1.name = p2.name AND p1.id > p2.id\n",
    ")\n",
    "\"\"\")\n",
    "cur.execute(\"\"\"\n",
    "SELECT name FROM parks \n",
    "\"\"\")\n",
    "result = cur.fetchall()\n",
    "conn.commit()\n",
    "        \n"
   ]
  },
  {
   "cell_type": "code",
   "execution_count": 27,
   "id": "9e325fba",
   "metadata": {},
   "outputs": [
    {
     "name": "stdout",
     "output_type": "stream",
     "text": [
      "('Central Park',)\n",
      "('Golden Gate Park',)\n",
      "('Hyde Park',)\n",
      "('Ueno Park',)\n"
     ]
    }
   ],
   "source": [
    "for res in result:\n",
    "    print(res)"
   ]
  },
  {
   "cell_type": "code",
   "execution_count": 32,
   "id": "c783c574",
   "metadata": {},
   "outputs": [],
   "source": [
    "city_names=[(\"New York\",\"Central Park\"),(\"Washington\", \"Golden Gate Park\"),(\"Houston\",\"Hyde Park\"),(\"Toronto\",\"Ueno Park\")]\n",
    "\n",
    "for city, park in city_names:\n",
    "    cur.execute(\n",
    "    \"\"\"\n",
    "    UPDATE parks\n",
    "    SET city = %s\n",
    "    WHERE parks.name = %s\n",
    "    \"\"\", (city, park))\n",
    "conn.commit()\n"
   ]
  },
  {
   "cell_type": "code",
   "execution_count": 55,
   "id": "ae7f62f9",
   "metadata": {
    "scrolled": true
   },
   "outputs": [],
   "source": [
    "\n",
    "cur.execute(\"\"\"\n",
    "CREATE TABLE workers (\n",
    "worker_id SERIAL PRIMARY KEY,\n",
    "name VARCHAR(40),\n",
    "salary FLOAT,\n",
    "park_id INTEGER,\n",
    "FOREIGN KEY (park_id) REFERENCES parks(id)\n",
    ")\n",
    "\"\"\")\n",
    "conn.commit()"
   ]
  },
  {
   "cell_type": "code",
   "execution_count": 56,
   "id": "fa4ee17e",
   "metadata": {},
   "outputs": [],
   "source": [
    "workers_data = [\n",
    "    (\"John Doe\", 4000, 1),\n",
    "    (\"Jane Smith\", 5000, 1),\n",
    "    (\"Mike Johnson\", 4500, 3),\n",
    "    (\"Alice Williams\", 6000, 4),\n",
    "    (\"Charlie Brown\", 4000, 3),\n",
    "    (\"Maggie Davis\", 5500, 3),\n",
    "    (\"Frank Miller\", 4700, 4),\n",
    "    (\"Sophia Wilson\", 5200, 4),\n",
    "    (\"Lucas Moore\", 4800, 5),\n",
    "    (\"Olivia Taylor\", 5300, 5)\n",
    "]\n",
    "\n",
    "for worker in workers_data:\n",
    "    cur.execute(\n",
    "        \"\"\"\n",
    "        INSERT INTO workers (name, salary, park_id)\n",
    "        VALUES (%s, %s, %s)\n",
    "        \"\"\", worker\n",
    "    )\n",
    "\n",
    "conn.commit()\n"
   ]
  },
  {
   "cell_type": "code",
   "execution_count": 57,
   "id": "e3a08715",
   "metadata": {},
   "outputs": [
    {
     "name": "stdout",
     "output_type": "stream",
     "text": [
      "('Central Park', 'John Doe')\n",
      "('Central Park', 'Jane Smith')\n",
      "('Golden Gate Park', 'Mike Johnson')\n",
      "('Hyde Park', 'Alice Williams')\n",
      "('Golden Gate Park', 'Charlie Brown')\n",
      "('Golden Gate Park', 'Maggie Davis')\n",
      "('Hyde Park', 'Frank Miller')\n",
      "('Hyde Park', 'Sophia Wilson')\n",
      "('Ueno Park', 'Lucas Moore')\n",
      "('Ueno Park', 'Olivia Taylor')\n"
     ]
    }
   ],
   "source": [
    "# Inner Join\n",
    "cur.execute(\"\"\"\n",
    "    SELECT parks.name AS park_name, workers.name AS worker_name\n",
    "    FROM parks\n",
    "    INNER JOIN workers ON parks.id = workers.park_id\n",
    "\"\"\")\n",
    "\n",
    "rows = cur.fetchall()\n",
    "for row in rows:\n",
    "    print(row)\n"
   ]
  },
  {
   "cell_type": "code",
   "execution_count": null,
   "id": "06e09d02",
   "metadata": {},
   "outputs": [],
   "source": []
  }
 ],
 "metadata": {
  "kernelspec": {
   "display_name": "Python 3 (ipykernel)",
   "language": "python",
   "name": "python3"
  },
  "language_info": {
   "codemirror_mode": {
    "name": "ipython",
    "version": 3
   },
   "file_extension": ".py",
   "mimetype": "text/x-python",
   "name": "python",
   "nbconvert_exporter": "python",
   "pygments_lexer": "ipython3",
   "version": "3.10.9"
  }
 },
 "nbformat": 4,
 "nbformat_minor": 5
}
