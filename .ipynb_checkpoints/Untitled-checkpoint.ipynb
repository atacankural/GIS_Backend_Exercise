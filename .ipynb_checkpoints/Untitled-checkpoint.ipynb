{
 "cells": [
  {
   "cell_type": "code",
   "execution_count": 1,
   "id": "e01e4be8",
   "metadata": {},
   "outputs": [],
   "source": [
    "import psycopg2"
   ]
  },
  {
   "cell_type": "code",
   "execution_count": 2,
   "id": "c4625285",
   "metadata": {},
   "outputs": [],
   "source": [
    "\n",
    "# varolan veritabanına bağlan\n",
    "conn = psycopg2.connect(\n",
    "    dbname=\"postgres\",\n",
    "    user=\"postgres\",\n",
    "    password=\"123456\",\n",
    "    host=\"localhost\"\n",
    ")\n",
    "\n",
    "# bir cursor oluşturun\n",
    "cur = conn.cursor()\n",
    "\n",
    "\n",
    "# park tablosunu oluşturun\n",
    "cur.execute(\"\"\"\n",
    "    CREATE TABLE parks (\n",
    "        id SERIAL PRIMARY KEY,\n",
    "        name VARCHAR(255),\n",
    "        area FLOAT,\n",
    "        location GEOMETRY(POINT, 4326)\n",
    "    );\n",
    "\"\"\")\n",
    "\n",
    "# değişiklikleri commit edin\n",
    "conn.commit()\n",
    "\n"
   ]
  },
  {
   "cell_type": "code",
   "execution_count": 8,
   "id": "916e0aff",
   "metadata": {},
   "outputs": [],
   "source": [
    "conn.rollback()\n",
    "\n",
    "cur.execute(\"\"\"\n",
    "    ALTER TABLE parks\n",
    "    ADD COLUMN city VARCHAR(255);\n",
    "    ALTER TABLE parks\n",
    "    ADD COLUMN boundaries GEOMETRY(POLYGON, 4326);\n",
    "\"\"\")\n",
    "conn.commit()"
   ]
  },
  {
   "cell_type": "code",
   "execution_count": null,
   "id": "a81a8a33",
   "metadata": {},
   "outputs": [],
   "source": []
  }
 ],
 "metadata": {
  "kernelspec": {
   "display_name": "Python 3 (ipykernel)",
   "language": "python",
   "name": "python3"
  },
  "language_info": {
   "codemirror_mode": {
    "name": "ipython",
    "version": 3
   },
   "file_extension": ".py",
   "mimetype": "text/x-python",
   "name": "python",
   "nbconvert_exporter": "python",
   "pygments_lexer": "ipython3",
   "version": "3.10.9"
  }
 },
 "nbformat": 4,
 "nbformat_minor": 5
}
